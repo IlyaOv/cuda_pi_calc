{
  "nbformat": 4,
  "nbformat_minor": 0,
  "metadata": {
    "colab": {
      "name": "cuda_pi.ipynb",
      "provenance": []
    },
    "kernelspec": {
      "name": "python3",
      "display_name": "Python 3"
    },
    "accelerator": "GPU"
  },
  "cells": [
    {
      "cell_type": "code",
      "metadata": {
        "id": "BFOWZ7ZD_klq"
      },
      "source": [
        "!nvcc cuda_pi_calc.cu -o cuda_pi_calc"
      ],
      "execution_count": 3,
      "outputs": []
    },
    {
      "cell_type": "code",
      "metadata": {
        "colab": {
          "base_uri": "https://localhost:8080/"
        },
        "id": "iV8oiFxA_7vJ",
        "outputId": "3a82a22b-fcf8-43aa-ce3a-d29320a09cb5"
      },
      "source": [
        "!./cuda_pi_calc 10000\n",
        "print(\"------\")\n",
        "!./cuda_pi_calc 100000\n",
        "print(\"------\")\n",
        "!./cuda_pi_calc 1000000\n",
        "print(\"------\")\n",
        "!./cuda_pi_calc 10000000\n",
        "print(\"------\")\n",
        "!./cuda_pi_calc 100000000"
      ],
      "execution_count": 4,
      "outputs": [
        {
          "output_type": "stream",
          "text": [
            "time Pi GPU: 0.000041 s.\n",
            "value Pi GPU: 3.140800\n",
            "time Pi CPU: 0.000098 s.\n",
            "value Pi CPU: 3.140800\n",
            "Acceleration: 2.390244\n",
            "------\n",
            "time Pi GPU: 0.000074 s.\n",
            "value Pi GPU: 3.142720\n",
            "time Pi CPU: 0.000885 s.\n",
            "value Pi CPU: 3.142720\n",
            "Acceleration: 11.959458\n",
            "------\n",
            "time Pi GPU: 0.000229 s.\n",
            "value Pi GPU: 3.142112\n",
            "time Pi CPU: 0.008431 s.\n",
            "value Pi CPU: 3.142112\n",
            "Acceleration: 36.816593\n",
            "------\n",
            "time Pi GPU: 0.001820 s.\n",
            "value Pi GPU: 3.141928\n",
            "time Pi CPU: 0.083601 s.\n",
            "value Pi CPU: 3.141928\n",
            "Acceleration: 45.934612\n",
            "------\n",
            "time Pi GPU: 0.017940 s.\n",
            "value Pi GPU: 3.141745\n",
            "time Pi CPU: 0.827941 s.\n",
            "value Pi CPU: 3.141745\n",
            "Acceleration: 46.150558\n"
          ],
          "name": "stdout"
        }
      ]
    }
  ]
}